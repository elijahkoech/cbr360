{
 "cells": [
  {
   "cell_type": "code",
   "execution_count": 1,
   "id": "60985c77",
   "metadata": {},
   "outputs": [],
   "source": [
    "import os\n",
    "import pandas as pd"
   ]
  },
  {
   "cell_type": "code",
   "execution_count": 2,
   "id": "1792c4c1",
   "metadata": {},
   "outputs": [
    {
     "ename": "FileNotFoundError",
     "evalue": "[Errno 2] No such file or directory: 'output'",
     "output_type": "error",
     "traceback": [
      "\u001b[31m---------------------------------------------------------------------------\u001b[39m",
      "\u001b[31mFileNotFoundError\u001b[39m                         Traceback (most recent call last)",
      "\u001b[36mCell\u001b[39m\u001b[36m \u001b[39m\u001b[32mIn[2]\u001b[39m\u001b[32m, line 1\u001b[39m\n\u001b[32m----> \u001b[39m\u001b[32m1\u001b[39m paths = [os.path.join(\u001b[33m\"\u001b[39m\u001b[33moutput\u001b[39m\u001b[33m\"\u001b[39m, i) \u001b[38;5;28;01mfor\u001b[39;00m i \u001b[38;5;129;01min\u001b[39;00m \u001b[43mos\u001b[49m\u001b[43m.\u001b[49m\u001b[43mlistdir\u001b[49m\u001b[43m(\u001b[49m\u001b[33;43m\"\u001b[39;49m\u001b[33;43moutput\u001b[39;49m\u001b[33;43m\"\u001b[39;49m\u001b[43m)\u001b[49m \u001b[38;5;28;01mif\u001b[39;00m i.startswith(\u001b[33m\"\u001b[39m\u001b[33mcountry\u001b[39m\u001b[33m\"\u001b[39m)]\n\u001b[32m      2\u001b[39m paths\n",
      "\u001b[31mFileNotFoundError\u001b[39m: [Errno 2] No such file or directory: 'output'"
     ]
    }
   ],
   "source": [
    "paths = [os.path.join(\"output\", i) for i in os.listdir(\"output\") if i.startswith(\"country\")]\n",
    "paths"
   ]
  },
  {
   "cell_type": "code",
   "execution_count": 50,
   "id": "35bec173",
   "metadata": {},
   "outputs": [],
   "source": [
    "dfs = []\n",
    "for p in paths:\n",
    "    df = pd.read_csv(p)\n",
    "    df[\"date_uploaded\"] = pd.to_datetime(df[\"date_uploaded\"], format=\"%Y-%m\").dt.to_period(\"M\")\n",
    "    df.disrepancy75_percent = df.disrepancy75_percent.round(3)\n",
    "    dfs.append(df)\n",
    "\n",
    "all_data = pd.concat(dfs, ignore_index=True)\n",
    "\n",
    "pivoted = (\n",
    "    all_data\n",
    "    .pivot_table(\n",
    "        index=\"country\",\n",
    "        columns=\"date_uploaded\",\n",
    "        values=\"disrepancy75_percent\",\n",
    "        aggfunc=\"first\"  # safe since each (product, month) should be unique\n",
    "    )\n",
    "    .reset_index()\n",
    ")\n",
    "\n",
    "pivoted.to_csv(\"country_final.csv\", index=False)"
   ]
  },
  {
   "cell_type": "code",
   "execution_count": null,
   "id": "738377ef",
   "metadata": {},
   "outputs": [],
   "source": []
  }
 ],
 "metadata": {
  "kernelspec": {
   "display_name": "ag",
   "language": "python",
   "name": "python3"
  },
  "language_info": {
   "codemirror_mode": {
    "name": "ipython",
    "version": 3
   },
   "file_extension": ".py",
   "mimetype": "text/x-python",
   "name": "python",
   "nbconvert_exporter": "python",
   "pygments_lexer": "ipython3",
   "version": "3.13.7"
  }
 },
 "nbformat": 4,
 "nbformat_minor": 5
}
