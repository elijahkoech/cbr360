{
 "cells": [
  {
   "cell_type": "code",
   "execution_count": 1,
   "id": "409b39cd",
   "metadata": {},
   "outputs": [],
   "source": [
    "from setup_notebook import setup_project_path\n",
    "setup_project_path()"
   ]
  },
  {
   "cell_type": "code",
   "execution_count": 2,
   "id": "edfbb6b4",
   "metadata": {},
   "outputs": [],
   "source": [
    "from src.config import RAW_DATA_DIR, PROCESSED_DATA_DIR"
   ]
  },
  {
   "cell_type": "code",
   "execution_count": 3,
   "id": "4a7b3968-5d77-4fbc-ab9b-567099634119",
   "metadata": {
    "tags": []
   },
   "outputs": [],
   "source": [
    "import pandas as pd\n",
    "from datetime import datetime, date, timedelta\n",
    "import numpy as np\n",
    "import gc\n",
    "import datetime as dt\n",
    "import io\n",
    "from io import StringIO\n",
    "import os"
   ]
  },
  {
   "cell_type": "code",
   "execution_count": 4,
   "id": "9d4f0d5c-cf33-4de0-aff7-f3629f3e89da",
   "metadata": {
    "tags": []
   },
   "outputs": [
    {
     "data": {
      "text/html": [
       "<div>\n",
       "<style scoped>\n",
       "    .dataframe tbody tr th:only-of-type {\n",
       "        vertical-align: middle;\n",
       "    }\n",
       "\n",
       "    .dataframe tbody tr th {\n",
       "        vertical-align: top;\n",
       "    }\n",
       "\n",
       "    .dataframe thead th {\n",
       "        text-align: right;\n",
       "    }\n",
       "</style>\n",
       "<table border=\"1\" class=\"dataframe\">\n",
       "  <thead>\n",
       "    <tr style=\"text-align: right;\">\n",
       "      <th></th>\n",
       "      <th>country</th>\n",
       "      <th>reg_month</th>\n",
       "      <th>product_group</th>\n",
       "      <th>primary_product</th>\n",
       "      <th>area_derived</th>\n",
       "      <th>num_accounts</th>\n",
       "    </tr>\n",
       "  </thead>\n",
       "  <tbody>\n",
       "    <tr>\n",
       "      <th>0</th>\n",
       "      <td>Kenya</td>\n",
       "      <td>2016-02</td>\n",
       "      <td>Lanterns</td>\n",
       "      <td>Sun King Pro EasyBuy</td>\n",
       "      <td>Bungoma</td>\n",
       "      <td>18</td>\n",
       "    </tr>\n",
       "    <tr>\n",
       "      <th>1</th>\n",
       "      <td>Kenya</td>\n",
       "      <td>2016-05</td>\n",
       "      <td>SHS Entry-Level</td>\n",
       "      <td>Sun King Home 60 EasyBuy</td>\n",
       "      <td>Bungoma</td>\n",
       "      <td>78</td>\n",
       "    </tr>\n",
       "    <tr>\n",
       "      <th>2</th>\n",
       "      <td>Kenya</td>\n",
       "      <td>2016-06</td>\n",
       "      <td>SHS Entry-Level</td>\n",
       "      <td>Sun King Home 60 EasyBuy</td>\n",
       "      <td>Kakamega</td>\n",
       "      <td>189</td>\n",
       "    </tr>\n",
       "    <tr>\n",
       "      <th>3</th>\n",
       "      <td>Kenya</td>\n",
       "      <td>2016-07</td>\n",
       "      <td>SHS Entry-Level</td>\n",
       "      <td>Sun King Home 60 EasyBuy</td>\n",
       "      <td>Kisumu</td>\n",
       "      <td>148</td>\n",
       "    </tr>\n",
       "    <tr>\n",
       "      <th>4</th>\n",
       "      <td>Kenya</td>\n",
       "      <td>2016-08</td>\n",
       "      <td>Lanterns</td>\n",
       "      <td>Sun King Pro EasyBuy</td>\n",
       "      <td>Kakamega</td>\n",
       "      <td>182</td>\n",
       "    </tr>\n",
       "    <tr>\n",
       "      <th>...</th>\n",
       "      <td>...</td>\n",
       "      <td>...</td>\n",
       "      <td>...</td>\n",
       "      <td>...</td>\n",
       "      <td>...</td>\n",
       "      <td>...</td>\n",
       "    </tr>\n",
       "    <tr>\n",
       "      <th>241114</th>\n",
       "      <td>Myanmar (Burma)</td>\n",
       "      <td>2018-01</td>\n",
       "      <td>SHS Entry-Level</td>\n",
       "      <td>Sun King Home 120 EasyBuy</td>\n",
       "      <td>Pathein</td>\n",
       "      <td>1</td>\n",
       "    </tr>\n",
       "    <tr>\n",
       "      <th>241115</th>\n",
       "      <td>Myanmar (Burma)</td>\n",
       "      <td>2018-05</td>\n",
       "      <td>Lanterns</td>\n",
       "      <td>Sun King Pro EasyBuy</td>\n",
       "      <td>Myaungmya</td>\n",
       "      <td>1</td>\n",
       "    </tr>\n",
       "    <tr>\n",
       "      <th>241116</th>\n",
       "      <td>Myanmar (Burma)</td>\n",
       "      <td>2023-05</td>\n",
       "      <td>SHS Entry-Level</td>\n",
       "      <td>Sun King Home 200X EasyBuy</td>\n",
       "      <td>Kyauktaga</td>\n",
       "      <td>3</td>\n",
       "    </tr>\n",
       "    <tr>\n",
       "      <th>241117</th>\n",
       "      <td>Myanmar (Burma)</td>\n",
       "      <td>2023-07</td>\n",
       "      <td>SHS without TV</td>\n",
       "      <td>Sun King Home 600 Easybuy GSM</td>\n",
       "      <td>KyauktagaR</td>\n",
       "      <td>1</td>\n",
       "    </tr>\n",
       "    <tr>\n",
       "      <th>241118</th>\n",
       "      <td>Myanmar (Burma)</td>\n",
       "      <td>2019-01</td>\n",
       "      <td>SHS without TV</td>\n",
       "      <td>Sun King Home 400 Easybuy GSM</td>\n",
       "      <td>Pathein</td>\n",
       "      <td>1</td>\n",
       "    </tr>\n",
       "  </tbody>\n",
       "</table>\n",
       "<p>241119 rows × 6 columns</p>\n",
       "</div>"
      ],
      "text/plain": [
       "                country reg_month    product_group  \\\n",
       "0                 Kenya   2016-02         Lanterns   \n",
       "1                 Kenya   2016-05  SHS Entry-Level   \n",
       "2                 Kenya   2016-06  SHS Entry-Level   \n",
       "3                 Kenya   2016-07  SHS Entry-Level   \n",
       "4                 Kenya   2016-08         Lanterns   \n",
       "...                 ...       ...              ...   \n",
       "241114  Myanmar (Burma)   2018-01  SHS Entry-Level   \n",
       "241115  Myanmar (Burma)   2018-05         Lanterns   \n",
       "241116  Myanmar (Burma)   2023-05  SHS Entry-Level   \n",
       "241117  Myanmar (Burma)   2023-07   SHS without TV   \n",
       "241118  Myanmar (Burma)   2019-01   SHS without TV   \n",
       "\n",
       "                      primary_product area_derived  num_accounts  \n",
       "0                Sun King Pro EasyBuy      Bungoma            18  \n",
       "1            Sun King Home 60 EasyBuy      Bungoma            78  \n",
       "2            Sun King Home 60 EasyBuy     Kakamega           189  \n",
       "3            Sun King Home 60 EasyBuy       Kisumu           148  \n",
       "4                Sun King Pro EasyBuy     Kakamega           182  \n",
       "...                               ...          ...           ...  \n",
       "241114      Sun King Home 120 EasyBuy      Pathein             1  \n",
       "241115           Sun King Pro EasyBuy    Myaungmya             1  \n",
       "241116     Sun King Home 200X EasyBuy    Kyauktaga             3  \n",
       "241117  Sun King Home 600 Easybuy GSM   KyauktagaR             1  \n",
       "241118  Sun King Home 400 Easybuy GSM      Pathein             1  \n",
       "\n",
       "[241119 rows x 6 columns]"
      ]
     },
     "execution_count": 4,
     "metadata": {},
     "output_type": "execute_result"
    }
   ],
   "source": [
    "df_accounts = pd.read_csv(os.path.join(RAW_DATA_DIR,'accounts_moddelling_2025-09-18.csv'))\n",
    "df_accounts"
   ]
  },
  {
   "cell_type": "code",
   "execution_count": 5,
   "id": "1bc8efee-4057-4576-8527-b2926f16cade",
   "metadata": {
    "tags": []
   },
   "outputs": [],
   "source": [
    "def get_cut_off_date():\n",
    "    last_day_of_prev_month = date.today().replace(day=1) - timedelta(days=1)\n",
    "    cut_off_date_3_years = str(last_day_of_prev_month - timedelta(days=365*3))\n",
    "\n",
    "    return cut_off_date_3_years"
   ]
  },
  {
   "cell_type": "code",
   "execution_count": 6,
   "id": "ea021ecf-4860-4ed9-9bd9-ab82bc279b7a",
   "metadata": {
    "tags": []
   },
   "outputs": [
    {
     "name": "stdout",
     "output_type": "stream",
     "text": [
      "accounts data loaded\n",
      "Shape of the dataset: (241119, 6)\n",
      "Head of the dataset:\n",
      "  country reg_month product_group       primary_product area_derived  \\\n",
      "0   Kenya   2016-02      Lanterns  Sun King Pro EasyBuy      Bungoma   \n",
      "\n",
      "   num_accounts  \n",
      "0            18  \n"
     ]
    }
   ],
   "source": [
    "print(\"accounts data loaded\")\n",
    "print(\"Shape of the dataset: {}\".format(df_accounts.shape))\n",
    "print(\"Head of the dataset:\")\n",
    "print(df_accounts.head(1))"
   ]
  },
  {
   "cell_type": "code",
   "execution_count": 7,
   "id": "ddb81fc5-680a-4f01-9248-2335ae1e7680",
   "metadata": {
    "tags": []
   },
   "outputs": [
    {
     "name": "stdout",
     "output_type": "stream",
     "text": [
      "cut off registation month:  2022-09-01\n"
     ]
    }
   ],
   "source": [
    "cut_off_reg_month = get_cut_off_date()\n",
    "print('cut off registation month: ',cut_off_reg_month)"
   ]
  },
  {
   "cell_type": "code",
   "execution_count": 8,
   "id": "88f11ef4-fec6-41c9-b0ef-0df18afcb6bf",
   "metadata": {
    "tags": []
   },
   "outputs": [],
   "source": [
    "last_day_of_prev_month = date.today().replace(day=1) - timedelta(days=1)"
   ]
  },
  {
   "cell_type": "code",
   "execution_count": 9,
   "id": "fd8bdefc-b207-4350-b2be-f3fb403fcb05",
   "metadata": {
    "tags": []
   },
   "outputs": [
    {
     "name": "stdout",
     "output_type": "stream",
     "text": [
      "2025-08-31\n"
     ]
    }
   ],
   "source": [
    "print(last_day_of_prev_month)"
   ]
  },
  {
   "cell_type": "code",
   "execution_count": 10,
   "id": "61b5efd2-f8cb-4155-8832-524efb0a2641",
   "metadata": {
    "tags": []
   },
   "outputs": [
    {
     "name": "stdout",
     "output_type": "stream",
     "text": [
      "Shape of the filtered dataset: (84168, 6)\n"
     ]
    }
   ],
   "source": [
    "df_accounts = df_accounts.loc[df_accounts['reg_month']<=cut_off_reg_month]\n",
    "df_accounts.reset_index(drop=True, inplace=True)\n",
    "print(\"Shape of the filtered dataset: {}\".format(df_accounts.shape))"
   ]
  },
  {
   "cell_type": "code",
   "execution_count": 11,
   "id": "de5e1fe1-ec31-4c61-bc76-ba9ac8b52f67",
   "metadata": {
    "tags": []
   },
   "outputs": [],
   "source": [
    "df_accounts.to_csv(os.path.join(PROCESSED_DATA_DIR,'accounts_data_modelling.csv'), index = False)"
   ]
  },
  {
   "cell_type": "code",
   "execution_count": 12,
   "id": "97d4d918-9195-4b65-a438-d2f380f744ac",
   "metadata": {},
   "outputs": [
    {
     "data": {
      "text/html": [
       "<div>\n",
       "<style scoped>\n",
       "    .dataframe tbody tr th:only-of-type {\n",
       "        vertical-align: middle;\n",
       "    }\n",
       "\n",
       "    .dataframe tbody tr th {\n",
       "        vertical-align: top;\n",
       "    }\n",
       "\n",
       "    .dataframe thead th {\n",
       "        text-align: right;\n",
       "    }\n",
       "</style>\n",
       "<table border=\"1\" class=\"dataframe\">\n",
       "  <thead>\n",
       "    <tr style=\"text-align: right;\">\n",
       "      <th></th>\n",
       "      <th>country</th>\n",
       "      <th>reg_month</th>\n",
       "      <th>product_group</th>\n",
       "      <th>primary_product</th>\n",
       "      <th>area_derived</th>\n",
       "      <th>num_accounts</th>\n",
       "    </tr>\n",
       "  </thead>\n",
       "  <tbody>\n",
       "    <tr>\n",
       "      <th>0</th>\n",
       "      <td>Kenya</td>\n",
       "      <td>2016-02</td>\n",
       "      <td>Lanterns</td>\n",
       "      <td>Sun King Pro EasyBuy</td>\n",
       "      <td>Bungoma</td>\n",
       "      <td>18</td>\n",
       "    </tr>\n",
       "    <tr>\n",
       "      <th>1</th>\n",
       "      <td>Kenya</td>\n",
       "      <td>2016-05</td>\n",
       "      <td>SHS Entry-Level</td>\n",
       "      <td>Sun King Home 60 EasyBuy</td>\n",
       "      <td>Bungoma</td>\n",
       "      <td>78</td>\n",
       "    </tr>\n",
       "    <tr>\n",
       "      <th>2</th>\n",
       "      <td>Kenya</td>\n",
       "      <td>2016-06</td>\n",
       "      <td>SHS Entry-Level</td>\n",
       "      <td>Sun King Home 60 EasyBuy</td>\n",
       "      <td>Kakamega</td>\n",
       "      <td>189</td>\n",
       "    </tr>\n",
       "    <tr>\n",
       "      <th>3</th>\n",
       "      <td>Kenya</td>\n",
       "      <td>2016-07</td>\n",
       "      <td>SHS Entry-Level</td>\n",
       "      <td>Sun King Home 60 EasyBuy</td>\n",
       "      <td>Kisumu</td>\n",
       "      <td>148</td>\n",
       "    </tr>\n",
       "    <tr>\n",
       "      <th>4</th>\n",
       "      <td>Kenya</td>\n",
       "      <td>2016-08</td>\n",
       "      <td>Lanterns</td>\n",
       "      <td>Sun King Pro EasyBuy</td>\n",
       "      <td>Kakamega</td>\n",
       "      <td>182</td>\n",
       "    </tr>\n",
       "    <tr>\n",
       "      <th>...</th>\n",
       "      <td>...</td>\n",
       "      <td>...</td>\n",
       "      <td>...</td>\n",
       "      <td>...</td>\n",
       "      <td>...</td>\n",
       "      <td>...</td>\n",
       "    </tr>\n",
       "    <tr>\n",
       "      <th>84163</th>\n",
       "      <td>Myanmar (Burma)</td>\n",
       "      <td>2021-01</td>\n",
       "      <td>SHS without TV</td>\n",
       "      <td>Sun King Home 400 Easybuy GSM</td>\n",
       "      <td>Chauk</td>\n",
       "      <td>1</td>\n",
       "    </tr>\n",
       "    <tr>\n",
       "      <th>84164</th>\n",
       "      <td>Myanmar (Burma)</td>\n",
       "      <td>2021-03</td>\n",
       "      <td>SHS Entry-Level</td>\n",
       "      <td>Sun King Home 120 EasyBuy</td>\n",
       "      <td>Bogale</td>\n",
       "      <td>1</td>\n",
       "    </tr>\n",
       "    <tr>\n",
       "      <th>84165</th>\n",
       "      <td>Myanmar (Burma)</td>\n",
       "      <td>2018-01</td>\n",
       "      <td>SHS Entry-Level</td>\n",
       "      <td>Sun King Home 120 EasyBuy</td>\n",
       "      <td>Pathein</td>\n",
       "      <td>1</td>\n",
       "    </tr>\n",
       "    <tr>\n",
       "      <th>84166</th>\n",
       "      <td>Myanmar (Burma)</td>\n",
       "      <td>2018-05</td>\n",
       "      <td>Lanterns</td>\n",
       "      <td>Sun King Pro EasyBuy</td>\n",
       "      <td>Myaungmya</td>\n",
       "      <td>1</td>\n",
       "    </tr>\n",
       "    <tr>\n",
       "      <th>84167</th>\n",
       "      <td>Myanmar (Burma)</td>\n",
       "      <td>2019-01</td>\n",
       "      <td>SHS without TV</td>\n",
       "      <td>Sun King Home 400 Easybuy GSM</td>\n",
       "      <td>Pathein</td>\n",
       "      <td>1</td>\n",
       "    </tr>\n",
       "  </tbody>\n",
       "</table>\n",
       "<p>84168 rows × 6 columns</p>\n",
       "</div>"
      ],
      "text/plain": [
       "               country reg_month    product_group  \\\n",
       "0                Kenya   2016-02         Lanterns   \n",
       "1                Kenya   2016-05  SHS Entry-Level   \n",
       "2                Kenya   2016-06  SHS Entry-Level   \n",
       "3                Kenya   2016-07  SHS Entry-Level   \n",
       "4                Kenya   2016-08         Lanterns   \n",
       "...                ...       ...              ...   \n",
       "84163  Myanmar (Burma)   2021-01   SHS without TV   \n",
       "84164  Myanmar (Burma)   2021-03  SHS Entry-Level   \n",
       "84165  Myanmar (Burma)   2018-01  SHS Entry-Level   \n",
       "84166  Myanmar (Burma)   2018-05         Lanterns   \n",
       "84167  Myanmar (Burma)   2019-01   SHS without TV   \n",
       "\n",
       "                     primary_product area_derived  num_accounts  \n",
       "0               Sun King Pro EasyBuy      Bungoma            18  \n",
       "1           Sun King Home 60 EasyBuy      Bungoma            78  \n",
       "2           Sun King Home 60 EasyBuy     Kakamega           189  \n",
       "3           Sun King Home 60 EasyBuy       Kisumu           148  \n",
       "4               Sun King Pro EasyBuy     Kakamega           182  \n",
       "...                              ...          ...           ...  \n",
       "84163  Sun King Home 400 Easybuy GSM        Chauk             1  \n",
       "84164      Sun King Home 120 EasyBuy       Bogale             1  \n",
       "84165      Sun King Home 120 EasyBuy      Pathein             1  \n",
       "84166           Sun King Pro EasyBuy    Myaungmya             1  \n",
       "84167  Sun King Home 400 Easybuy GSM      Pathein             1  \n",
       "\n",
       "[84168 rows x 6 columns]"
      ]
     },
     "execution_count": 12,
     "metadata": {},
     "output_type": "execute_result"
    }
   ],
   "source": [
    "df_accounts"
   ]
  },
  {
   "cell_type": "code",
   "execution_count": null,
   "id": "e566dbd2-511f-4fd4-bf6d-28fc338d24eb",
   "metadata": {},
   "outputs": [],
   "source": []
  }
 ],
 "metadata": {
  "availableInstances": [
   {
    "_defaultOrder": 0,
    "_isFastLaunch": true,
    "category": "General purpose",
    "gpuNum": 0,
    "hideHardwareSpecs": false,
    "memoryGiB": 4,
    "name": "ml.t3.medium",
    "vcpuNum": 2
   },
   {
    "_defaultOrder": 1,
    "_isFastLaunch": false,
    "category": "General purpose",
    "gpuNum": 0,
    "hideHardwareSpecs": false,
    "memoryGiB": 8,
    "name": "ml.t3.large",
    "vcpuNum": 2
   },
   {
    "_defaultOrder": 2,
    "_isFastLaunch": false,
    "category": "General purpose",
    "gpuNum": 0,
    "hideHardwareSpecs": false,
    "memoryGiB": 16,
    "name": "ml.t3.xlarge",
    "vcpuNum": 4
   },
   {
    "_defaultOrder": 3,
    "_isFastLaunch": false,
    "category": "General purpose",
    "gpuNum": 0,
    "hideHardwareSpecs": false,
    "memoryGiB": 32,
    "name": "ml.t3.2xlarge",
    "vcpuNum": 8
   },
   {
    "_defaultOrder": 4,
    "_isFastLaunch": true,
    "category": "General purpose",
    "gpuNum": 0,
    "hideHardwareSpecs": false,
    "memoryGiB": 8,
    "name": "ml.m5.large",
    "vcpuNum": 2
   },
   {
    "_defaultOrder": 5,
    "_isFastLaunch": false,
    "category": "General purpose",
    "gpuNum": 0,
    "hideHardwareSpecs": false,
    "memoryGiB": 16,
    "name": "ml.m5.xlarge",
    "vcpuNum": 4
   },
   {
    "_defaultOrder": 6,
    "_isFastLaunch": false,
    "category": "General purpose",
    "gpuNum": 0,
    "hideHardwareSpecs": false,
    "memoryGiB": 32,
    "name": "ml.m5.2xlarge",
    "vcpuNum": 8
   },
   {
    "_defaultOrder": 7,
    "_isFastLaunch": false,
    "category": "General purpose",
    "gpuNum": 0,
    "hideHardwareSpecs": false,
    "memoryGiB": 64,
    "name": "ml.m5.4xlarge",
    "vcpuNum": 16
   },
   {
    "_defaultOrder": 8,
    "_isFastLaunch": false,
    "category": "General purpose",
    "gpuNum": 0,
    "hideHardwareSpecs": false,
    "memoryGiB": 128,
    "name": "ml.m5.8xlarge",
    "vcpuNum": 32
   },
   {
    "_defaultOrder": 9,
    "_isFastLaunch": false,
    "category": "General purpose",
    "gpuNum": 0,
    "hideHardwareSpecs": false,
    "memoryGiB": 192,
    "name": "ml.m5.12xlarge",
    "vcpuNum": 48
   },
   {
    "_defaultOrder": 10,
    "_isFastLaunch": false,
    "category": "General purpose",
    "gpuNum": 0,
    "hideHardwareSpecs": false,
    "memoryGiB": 256,
    "name": "ml.m5.16xlarge",
    "vcpuNum": 64
   },
   {
    "_defaultOrder": 11,
    "_isFastLaunch": false,
    "category": "General purpose",
    "gpuNum": 0,
    "hideHardwareSpecs": false,
    "memoryGiB": 384,
    "name": "ml.m5.24xlarge",
    "vcpuNum": 96
   },
   {
    "_defaultOrder": 12,
    "_isFastLaunch": false,
    "category": "General purpose",
    "gpuNum": 0,
    "hideHardwareSpecs": false,
    "memoryGiB": 8,
    "name": "ml.m5d.large",
    "vcpuNum": 2
   },
   {
    "_defaultOrder": 13,
    "_isFastLaunch": false,
    "category": "General purpose",
    "gpuNum": 0,
    "hideHardwareSpecs": false,
    "memoryGiB": 16,
    "name": "ml.m5d.xlarge",
    "vcpuNum": 4
   },
   {
    "_defaultOrder": 14,
    "_isFastLaunch": false,
    "category": "General purpose",
    "gpuNum": 0,
    "hideHardwareSpecs": false,
    "memoryGiB": 32,
    "name": "ml.m5d.2xlarge",
    "vcpuNum": 8
   },
   {
    "_defaultOrder": 15,
    "_isFastLaunch": false,
    "category": "General purpose",
    "gpuNum": 0,
    "hideHardwareSpecs": false,
    "memoryGiB": 64,
    "name": "ml.m5d.4xlarge",
    "vcpuNum": 16
   },
   {
    "_defaultOrder": 16,
    "_isFastLaunch": false,
    "category": "General purpose",
    "gpuNum": 0,
    "hideHardwareSpecs": false,
    "memoryGiB": 128,
    "name": "ml.m5d.8xlarge",
    "vcpuNum": 32
   },
   {
    "_defaultOrder": 17,
    "_isFastLaunch": false,
    "category": "General purpose",
    "gpuNum": 0,
    "hideHardwareSpecs": false,
    "memoryGiB": 192,
    "name": "ml.m5d.12xlarge",
    "vcpuNum": 48
   },
   {
    "_defaultOrder": 18,
    "_isFastLaunch": false,
    "category": "General purpose",
    "gpuNum": 0,
    "hideHardwareSpecs": false,
    "memoryGiB": 256,
    "name": "ml.m5d.16xlarge",
    "vcpuNum": 64
   },
   {
    "_defaultOrder": 19,
    "_isFastLaunch": false,
    "category": "General purpose",
    "gpuNum": 0,
    "hideHardwareSpecs": false,
    "memoryGiB": 384,
    "name": "ml.m5d.24xlarge",
    "vcpuNum": 96
   },
   {
    "_defaultOrder": 20,
    "_isFastLaunch": false,
    "category": "General purpose",
    "gpuNum": 0,
    "hideHardwareSpecs": true,
    "memoryGiB": 0,
    "name": "ml.geospatial.interactive",
    "supportedImageNames": [
     "sagemaker-geospatial-v1-0"
    ],
    "vcpuNum": 0
   },
   {
    "_defaultOrder": 21,
    "_isFastLaunch": true,
    "category": "Compute optimized",
    "gpuNum": 0,
    "hideHardwareSpecs": false,
    "memoryGiB": 4,
    "name": "ml.c5.large",
    "vcpuNum": 2
   },
   {
    "_defaultOrder": 22,
    "_isFastLaunch": false,
    "category": "Compute optimized",
    "gpuNum": 0,
    "hideHardwareSpecs": false,
    "memoryGiB": 8,
    "name": "ml.c5.xlarge",
    "vcpuNum": 4
   },
   {
    "_defaultOrder": 23,
    "_isFastLaunch": false,
    "category": "Compute optimized",
    "gpuNum": 0,
    "hideHardwareSpecs": false,
    "memoryGiB": 16,
    "name": "ml.c5.2xlarge",
    "vcpuNum": 8
   },
   {
    "_defaultOrder": 24,
    "_isFastLaunch": false,
    "category": "Compute optimized",
    "gpuNum": 0,
    "hideHardwareSpecs": false,
    "memoryGiB": 32,
    "name": "ml.c5.4xlarge",
    "vcpuNum": 16
   },
   {
    "_defaultOrder": 25,
    "_isFastLaunch": false,
    "category": "Compute optimized",
    "gpuNum": 0,
    "hideHardwareSpecs": false,
    "memoryGiB": 72,
    "name": "ml.c5.9xlarge",
    "vcpuNum": 36
   },
   {
    "_defaultOrder": 26,
    "_isFastLaunch": false,
    "category": "Compute optimized",
    "gpuNum": 0,
    "hideHardwareSpecs": false,
    "memoryGiB": 96,
    "name": "ml.c5.12xlarge",
    "vcpuNum": 48
   },
   {
    "_defaultOrder": 27,
    "_isFastLaunch": false,
    "category": "Compute optimized",
    "gpuNum": 0,
    "hideHardwareSpecs": false,
    "memoryGiB": 144,
    "name": "ml.c5.18xlarge",
    "vcpuNum": 72
   },
   {
    "_defaultOrder": 28,
    "_isFastLaunch": false,
    "category": "Compute optimized",
    "gpuNum": 0,
    "hideHardwareSpecs": false,
    "memoryGiB": 192,
    "name": "ml.c5.24xlarge",
    "vcpuNum": 96
   },
   {
    "_defaultOrder": 29,
    "_isFastLaunch": true,
    "category": "Accelerated computing",
    "gpuNum": 1,
    "hideHardwareSpecs": false,
    "memoryGiB": 16,
    "name": "ml.g4dn.xlarge",
    "vcpuNum": 4
   },
   {
    "_defaultOrder": 30,
    "_isFastLaunch": false,
    "category": "Accelerated computing",
    "gpuNum": 1,
    "hideHardwareSpecs": false,
    "memoryGiB": 32,
    "name": "ml.g4dn.2xlarge",
    "vcpuNum": 8
   },
   {
    "_defaultOrder": 31,
    "_isFastLaunch": false,
    "category": "Accelerated computing",
    "gpuNum": 1,
    "hideHardwareSpecs": false,
    "memoryGiB": 64,
    "name": "ml.g4dn.4xlarge",
    "vcpuNum": 16
   },
   {
    "_defaultOrder": 32,
    "_isFastLaunch": false,
    "category": "Accelerated computing",
    "gpuNum": 1,
    "hideHardwareSpecs": false,
    "memoryGiB": 128,
    "name": "ml.g4dn.8xlarge",
    "vcpuNum": 32
   },
   {
    "_defaultOrder": 33,
    "_isFastLaunch": false,
    "category": "Accelerated computing",
    "gpuNum": 4,
    "hideHardwareSpecs": false,
    "memoryGiB": 192,
    "name": "ml.g4dn.12xlarge",
    "vcpuNum": 48
   },
   {
    "_defaultOrder": 34,
    "_isFastLaunch": false,
    "category": "Accelerated computing",
    "gpuNum": 1,
    "hideHardwareSpecs": false,
    "memoryGiB": 256,
    "name": "ml.g4dn.16xlarge",
    "vcpuNum": 64
   },
   {
    "_defaultOrder": 35,
    "_isFastLaunch": false,
    "category": "Accelerated computing",
    "gpuNum": 1,
    "hideHardwareSpecs": false,
    "memoryGiB": 61,
    "name": "ml.p3.2xlarge",
    "vcpuNum": 8
   },
   {
    "_defaultOrder": 36,
    "_isFastLaunch": false,
    "category": "Accelerated computing",
    "gpuNum": 4,
    "hideHardwareSpecs": false,
    "memoryGiB": 244,
    "name": "ml.p3.8xlarge",
    "vcpuNum": 32
   },
   {
    "_defaultOrder": 37,
    "_isFastLaunch": false,
    "category": "Accelerated computing",
    "gpuNum": 8,
    "hideHardwareSpecs": false,
    "memoryGiB": 488,
    "name": "ml.p3.16xlarge",
    "vcpuNum": 64
   },
   {
    "_defaultOrder": 38,
    "_isFastLaunch": false,
    "category": "Accelerated computing",
    "gpuNum": 8,
    "hideHardwareSpecs": false,
    "memoryGiB": 768,
    "name": "ml.p3dn.24xlarge",
    "vcpuNum": 96
   },
   {
    "_defaultOrder": 39,
    "_isFastLaunch": false,
    "category": "Memory Optimized",
    "gpuNum": 0,
    "hideHardwareSpecs": false,
    "memoryGiB": 16,
    "name": "ml.r5.large",
    "vcpuNum": 2
   },
   {
    "_defaultOrder": 40,
    "_isFastLaunch": false,
    "category": "Memory Optimized",
    "gpuNum": 0,
    "hideHardwareSpecs": false,
    "memoryGiB": 32,
    "name": "ml.r5.xlarge",
    "vcpuNum": 4
   },
   {
    "_defaultOrder": 41,
    "_isFastLaunch": false,
    "category": "Memory Optimized",
    "gpuNum": 0,
    "hideHardwareSpecs": false,
    "memoryGiB": 64,
    "name": "ml.r5.2xlarge",
    "vcpuNum": 8
   },
   {
    "_defaultOrder": 42,
    "_isFastLaunch": false,
    "category": "Memory Optimized",
    "gpuNum": 0,
    "hideHardwareSpecs": false,
    "memoryGiB": 128,
    "name": "ml.r5.4xlarge",
    "vcpuNum": 16
   },
   {
    "_defaultOrder": 43,
    "_isFastLaunch": false,
    "category": "Memory Optimized",
    "gpuNum": 0,
    "hideHardwareSpecs": false,
    "memoryGiB": 256,
    "name": "ml.r5.8xlarge",
    "vcpuNum": 32
   },
   {
    "_defaultOrder": 44,
    "_isFastLaunch": false,
    "category": "Memory Optimized",
    "gpuNum": 0,
    "hideHardwareSpecs": false,
    "memoryGiB": 384,
    "name": "ml.r5.12xlarge",
    "vcpuNum": 48
   },
   {
    "_defaultOrder": 45,
    "_isFastLaunch": false,
    "category": "Memory Optimized",
    "gpuNum": 0,
    "hideHardwareSpecs": false,
    "memoryGiB": 512,
    "name": "ml.r5.16xlarge",
    "vcpuNum": 64
   },
   {
    "_defaultOrder": 46,
    "_isFastLaunch": false,
    "category": "Memory Optimized",
    "gpuNum": 0,
    "hideHardwareSpecs": false,
    "memoryGiB": 768,
    "name": "ml.r5.24xlarge",
    "vcpuNum": 96
   },
   {
    "_defaultOrder": 47,
    "_isFastLaunch": false,
    "category": "Accelerated computing",
    "gpuNum": 1,
    "hideHardwareSpecs": false,
    "memoryGiB": 16,
    "name": "ml.g5.xlarge",
    "vcpuNum": 4
   },
   {
    "_defaultOrder": 48,
    "_isFastLaunch": false,
    "category": "Accelerated computing",
    "gpuNum": 1,
    "hideHardwareSpecs": false,
    "memoryGiB": 32,
    "name": "ml.g5.2xlarge",
    "vcpuNum": 8
   },
   {
    "_defaultOrder": 49,
    "_isFastLaunch": false,
    "category": "Accelerated computing",
    "gpuNum": 1,
    "hideHardwareSpecs": false,
    "memoryGiB": 64,
    "name": "ml.g5.4xlarge",
    "vcpuNum": 16
   },
   {
    "_defaultOrder": 50,
    "_isFastLaunch": false,
    "category": "Accelerated computing",
    "gpuNum": 1,
    "hideHardwareSpecs": false,
    "memoryGiB": 128,
    "name": "ml.g5.8xlarge",
    "vcpuNum": 32
   },
   {
    "_defaultOrder": 51,
    "_isFastLaunch": false,
    "category": "Accelerated computing",
    "gpuNum": 1,
    "hideHardwareSpecs": false,
    "memoryGiB": 256,
    "name": "ml.g5.16xlarge",
    "vcpuNum": 64
   },
   {
    "_defaultOrder": 52,
    "_isFastLaunch": false,
    "category": "Accelerated computing",
    "gpuNum": 4,
    "hideHardwareSpecs": false,
    "memoryGiB": 192,
    "name": "ml.g5.12xlarge",
    "vcpuNum": 48
   },
   {
    "_defaultOrder": 53,
    "_isFastLaunch": false,
    "category": "Accelerated computing",
    "gpuNum": 4,
    "hideHardwareSpecs": false,
    "memoryGiB": 384,
    "name": "ml.g5.24xlarge",
    "vcpuNum": 96
   },
   {
    "_defaultOrder": 54,
    "_isFastLaunch": false,
    "category": "Accelerated computing",
    "gpuNum": 8,
    "hideHardwareSpecs": false,
    "memoryGiB": 768,
    "name": "ml.g5.48xlarge",
    "vcpuNum": 192
   },
   {
    "_defaultOrder": 55,
    "_isFastLaunch": false,
    "category": "Accelerated computing",
    "gpuNum": 8,
    "hideHardwareSpecs": false,
    "memoryGiB": 1152,
    "name": "ml.p4d.24xlarge",
    "vcpuNum": 96
   },
   {
    "_defaultOrder": 56,
    "_isFastLaunch": false,
    "category": "Accelerated computing",
    "gpuNum": 8,
    "hideHardwareSpecs": false,
    "memoryGiB": 1152,
    "name": "ml.p4de.24xlarge",
    "vcpuNum": 96
   },
   {
    "_defaultOrder": 57,
    "_isFastLaunch": false,
    "category": "Accelerated computing",
    "gpuNum": 0,
    "hideHardwareSpecs": false,
    "memoryGiB": 32,
    "name": "ml.trn1.2xlarge",
    "vcpuNum": 8
   },
   {
    "_defaultOrder": 58,
    "_isFastLaunch": false,
    "category": "Accelerated computing",
    "gpuNum": 0,
    "hideHardwareSpecs": false,
    "memoryGiB": 512,
    "name": "ml.trn1.32xlarge",
    "vcpuNum": 128
   },
   {
    "_defaultOrder": 59,
    "_isFastLaunch": false,
    "category": "Accelerated computing",
    "gpuNum": 0,
    "hideHardwareSpecs": false,
    "memoryGiB": 512,
    "name": "ml.trn1n.32xlarge",
    "vcpuNum": 128
   }
  ],
  "instance_type": "ml.t3.medium",
  "kernelspec": {
   "display_name": ".venv",
   "language": "python",
   "name": "python3"
  },
  "language_info": {
   "codemirror_mode": {
    "name": "ipython",
    "version": 3
   },
   "file_extension": ".py",
   "mimetype": "text/x-python",
   "name": "python",
   "nbconvert_exporter": "python",
   "pygments_lexer": "ipython3",
   "version": "3.12.3"
  }
 },
 "nbformat": 4,
 "nbformat_minor": 5
}
