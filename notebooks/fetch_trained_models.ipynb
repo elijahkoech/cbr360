{
 "cells": [
  {
   "cell_type": "markdown",
   "id": "9402d285",
   "metadata": {},
   "source": [
    "## Step Functions\n",
    "\n",
    "Step 1 KPI Collection Step: s3://sagemaker-us-west-2-983511196003/cbr_cohort3/cbr_input_kpis_data/code/kpis_data_collection_predictions.py\n",
    "\n",
    "Step 2 Data preprocessing: s3://sagemaker-us-west-2-983511196003/cbr_cohort3/cbr_input_processing/code/data_preprocessing_predictions.py\n",
    "\n",
    "Step3 a Prediction: s3://sagemaker-us-west-2-983511196003/cbr_cohort3/cbr_input_inference/code/model_inference_predictions.py\n",
    "\n",
    "Step 3 b KPIs redshift table: s3://sagemaker-us-west-2-983511196003/cbr_cohort3/cbr_input_processing/code/KPIs_redshift_table.py\n",
    "\n",
    "Step 4 Predictions Adjustment: s3://sagemaker-us-west-2-983511196003/cbr_input_adjustment/code/model_predictions_adjustment.py"
   ]
  },
  {
   "cell_type": "code",
   "execution_count": 1,
   "id": "5776231a",
   "metadata": {},
   "outputs": [],
   "source": [
    "import pandas as pd"
   ]
  },
  {
   "cell_type": "code",
   "execution_count": 2,
   "id": "65172ac7",
   "metadata": {},
   "outputs": [
    {
     "data": {
      "text/plain": [
       "['quantile_regression_30_0.1_days_2023-10-16.txt',\n",
       " 'quantile_regression_30_0.5_days_2023-10-16.txt',\n",
       " 'quantile_regression_30_0.8_days_2023-10-16.txt',\n",
       " 'quantile_regression_60_0.1_days_2023-10-16.txt',\n",
       " 'quantile_regression_60_0.5_days_2023-10-16.txt',\n",
       " 'quantile_regression_60_0.8_days_2023-10-16.txt',\n",
       " 'quantile_regression_90_0.1_days_2024-03-20.txt',\n",
       " 'quantile_regression_90_0.5_days_2025-02-23.txt',\n",
       " 'quantile_regression_90_0.8_days_2024-03-20.txt',\n",
       " 'quantile_regression_180_0.1_days_2023-09-28.txt',\n",
       " 'quantile_regression_180_0.5_days_2025-02-23.txt',\n",
       " 'quantile_regression_180_0.8_days_2023-09-28.txt',\n",
       " 'quantile_regression_270_0.1_days_2024-03-19.txt',\n",
       " 'quantile_regression_270_0.5_days_2025-02-23.txt',\n",
       " 'quantile_regression_270_0.8_days_2024-03-19.txt',\n",
       " 'quantile_regression_360+_0.1_days_2024-03-19.txt',\n",
       " 'quantile_regression_360_0.5_days_2025-02-23.txt',\n",
       " 'quantile_regression_360+_0.8_days_2024-03-19.txt']"
      ]
     },
     "execution_count": 2,
     "metadata": {},
     "output_type": "execute_result"
    }
   ],
   "source": [
    "import os\n",
    "# os.environ[\"AWS_PROFILE\"] = 'sunking'\n",
    "curr_dir = os.path.abspath(os.getcwd())\n",
    "model_dir = os.path.join(curr_dir,'models')\n",
    "\n",
    "def fetch_models(model_filename):\n",
    "    if not os.path.exists(os.path.join(model_dir, model_filename)):\n",
    "        import subprocess\n",
    "        command = [\n",
    "            \"aws\", \"s3\", \"cp\",\n",
    "            f\"s3://cbr-cohort-experiments/Models/{model_filename}\",\n",
    "            \"../data/\"\n",
    "        ]\n",
    "        \n",
    "        subprocess.run(command, check=True)\n",
    "    else:\n",
    "        print(f\"{model_filename} already exist. skipping.\")\n",
    "    return os.path.join(model_dir, model_filename)\n",
    "\n",
    "models = [\n",
    "\"--model_file_30_1\",\n",
    "\"quantile_regression_30_0.1_days_2023-10-16.txt\",\n",
    "\"--model_file_30_5\",\n",
    "\"quantile_regression_30_0.5_days_2023-10-16.txt\",\n",
    "\"--model_file_30_8\",\n",
    "\"quantile_regression_30_0.8_days_2023-10-16.txt\",\n",
    "\"--model_file_60_1\",\n",
    "\"quantile_regression_60_0.1_days_2023-10-16.txt\",\n",
    "\"--model_file_60_5\",\n",
    "\"quantile_regression_60_0.5_days_2023-10-16.txt\",\n",
    "\"--model_file_60_8\",\n",
    "\"quantile_regression_60_0.8_days_2023-10-16.txt\",\n",
    "\"--model_file_90_1\",\n",
    "\"quantile_regression_90_0.1_days_2024-03-20.txt\",\n",
    "\"--model_file_90_5\",\n",
    "\"quantile_regression_90_0.5_days_2025-02-23.txt\",\n",
    "\"--model_file_90_8\",\n",
    "\"quantile_regression_90_0.8_days_2024-03-20.txt\",\n",
    "\"--model_file_180_1\",\n",
    "\"quantile_regression_180_0.1_days_2023-09-28.txt\",\n",
    "\"--model_file_180_5\",\n",
    "\"quantile_regression_180_0.5_days_2025-02-23.txt\",\n",
    "\"--model_file_180_8\",\n",
    "\"quantile_regression_180_0.8_days_2023-09-28.txt\",\n",
    "\"--model_file_270_1\",\n",
    "\"quantile_regression_270_0.1_days_2024-03-19.txt\",\n",
    "\"--model_file_270_5\",\n",
    "\"quantile_regression_270_0.5_days_2025-02-23.txt\",\n",
    "\"--model_file_270_8\",\n",
    "\"quantile_regression_270_0.8_days_2024-03-19.txt\",\n",
    "\"--model_file_360_1\",\n",
    "\"quantile_regression_360+_0.1_days_2024-03-19.txt\",\n",
    "\"--model_file_360_5\",\n",
    "\"quantile_regression_360_0.5_days_2025-02-23.txt\",\n",
    "\"--model_file_360_8\",\n",
    "\"quantile_regression_360+_0.8_days_2024-03-19.txt\"\n",
    "    ]\n",
    "models_clean = [i for i in models if i.startswith(\"quantile_\")]\n",
    "models_clean "
   ]
  },
  {
   "cell_type": "code",
   "execution_count": 3,
   "id": "0bafab85",
   "metadata": {},
   "outputs": [
    {
     "name": "stdout",
     "output_type": "stream",
     "text": [
      "download: s3://cbr-cohort-experiments/Models/quantile_regression_30_0.1_days_2023-10-16.txt to ../data/quantile_regression_30_0.1_days_2023-10-16.txt\n",
      "download: s3://cbr-cohort-experiments/Models/quantile_regression_30_0.5_days_2023-10-16.txt to ../data/quantile_regression_30_0.5_days_2023-10-16.txt\n",
      "download: s3://cbr-cohort-experiments/Models/quantile_regression_30_0.8_days_2023-10-16.txt to ../data/quantile_regression_30_0.8_days_2023-10-16.txt\n",
      "download: s3://cbr-cohort-experiments/Models/quantile_regression_60_0.1_days_2023-10-16.txt to ../data/quantile_regression_60_0.1_days_2023-10-16.txt\n",
      "download: s3://cbr-cohort-experiments/Models/quantile_regression_60_0.5_days_2023-10-16.txt to ../data/quantile_regression_60_0.5_days_2023-10-16.txt\n",
      "download: s3://cbr-cohort-experiments/Models/quantile_regression_60_0.8_days_2023-10-16.txt to ../data/quantile_regression_60_0.8_days_2023-10-16.txt\n",
      "download: s3://cbr-cohort-experiments/Models/quantile_regression_90_0.1_days_2024-03-20.txt to ../data/quantile_regression_90_0.1_days_2024-03-20.txt\n",
      "download: s3://cbr-cohort-experiments/Models/quantile_regression_90_0.5_days_2025-02-23.txt to ../data/quantile_regression_90_0.5_days_2025-02-23.txt\n",
      "download: s3://cbr-cohort-experiments/Models/quantile_regression_90_0.8_days_2024-03-20.txt to ../data/quantile_regression_90_0.8_days_2024-03-20.txt\n",
      "download: s3://cbr-cohort-experiments/Models/quantile_regression_180_0.1_days_2023-09-28.txt to ../data/quantile_regression_180_0.1_days_2023-09-28.txt\n",
      "download: s3://cbr-cohort-experiments/Models/quantile_regression_180_0.5_days_2025-02-23.txt to ../data/quantile_regression_180_0.5_days_2025-02-23.txt\n",
      "download: s3://cbr-cohort-experiments/Models/quantile_regression_180_0.8_days_2023-09-28.txt to ../data/quantile_regression_180_0.8_days_2023-09-28.txt\n",
      "download: s3://cbr-cohort-experiments/Models/quantile_regression_270_0.1_days_2024-03-19.txt to ../data/quantile_regression_270_0.1_days_2024-03-19.txt\n",
      "download: s3://cbr-cohort-experiments/Models/quantile_regression_270_0.5_days_2025-02-23.txt to ../data/quantile_regression_270_0.5_days_2025-02-23.txt\n",
      "download: s3://cbr-cohort-experiments/Models/quantile_regression_270_0.8_days_2024-03-19.txt to ../data/quantile_regression_270_0.8_days_2024-03-19.txt\n",
      "download: s3://cbr-cohort-experiments/Models/quantile_regression_360+_0.1_days_2024-03-19.txt to ../data/quantile_regression_360+_0.1_days_2024-03-19.txt\n",
      "download: s3://cbr-cohort-experiments/Models/quantile_regression_360_0.5_days_2025-02-23.txt to ../data/quantile_regression_360_0.5_days_2025-02-23.txt\n",
      "download: s3://cbr-cohort-experiments/Models/quantile_regression_360+_0.8_days_2024-03-19.txt to ../data/quantile_regression_360+_0.8_days_2024-03-19.txt\n"
     ]
    }
   ],
   "source": [
    "for model_file in models_clean:\n",
    "    model_path = fetch_models(model_file)"
   ]
  },
  {
   "cell_type": "code",
   "execution_count": null,
   "id": "b4965790",
   "metadata": {},
   "outputs": [],
   "source": []
  }
 ],
 "metadata": {
  "kernelspec": {
   "display_name": "ag",
   "language": "python",
   "name": "python3"
  },
  "language_info": {
   "codemirror_mode": {
    "name": "ipython",
    "version": 3
   },
   "file_extension": ".py",
   "mimetype": "text/x-python",
   "name": "python",
   "nbconvert_exporter": "python",
   "pygments_lexer": "ipython3",
   "version": "3.13.7"
  }
 },
 "nbformat": 4,
 "nbformat_minor": 5
}
